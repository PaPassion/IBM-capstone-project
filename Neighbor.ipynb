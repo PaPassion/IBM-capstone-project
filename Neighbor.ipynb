{
 "cells": [
  {
   "cell_type": "code",
   "execution_count": 55,
   "metadata": {},
   "outputs": [],
   "source": [
    "import pandas as pd\n",
    "url = 'https://en.wikipedia.org/wiki/List_of_postal_codes_of_Canada:_M'\n",
    "proxies={\n",
    "    'http': 'http://127.0.0.1:1087',\n",
    "    'https': 'https://127.0.0.1:1087'\n",
    "}\n",
    "table = pd.read_html(url)[0]"
   ]
  },
  {
   "cell_type": "code",
   "execution_count": 111,
   "metadata": {},
   "outputs": [
    {
     "data": {
      "text/plain": [
       "0          Not assigned\n",
       "1          Not assigned\n",
       "2            North York\n",
       "3            North York\n",
       "4      Downtown Toronto\n",
       "             ...       \n",
       "175        Not assigned\n",
       "176        Not assigned\n",
       "177        Not assigned\n",
       "178           Etobicoke\n",
       "179        Not assigned\n",
       "Name: Borough, Length: 180, dtype: object"
      ]
     },
     "execution_count": 111,
     "metadata": {},
     "output_type": "execute_result"
    }
   ],
   "source": [
    "column_names = ['Postal Code','Borough', 'Neighborhood'] \n",
    "neighbor = pd.DataFrame(table, columns=column_names) \n",
    "for data in neighbor:\n",
    "    if ()"
   ]
  },
  {
   "cell_type": "code",
   "execution_count": 107,
   "metadata": {},
   "outputs": [
    {
     "ename": "SyntaxError",
     "evalue": "invalid syntax (<ipython-input-107-82dca9e5195c>, line 2)",
     "output_type": "error",
     "traceback": [
      "\u001b[0;36m  File \u001b[0;32m\"<ipython-input-107-82dca9e5195c>\"\u001b[0;36m, line \u001b[0;32m2\u001b[0m\n\u001b[0;31m    open('file.csv','r'):\u001b[0m\n\u001b[0m                         ^\u001b[0m\n\u001b[0;31mSyntaxError\u001b[0m\u001b[0;31m:\u001b[0m invalid syntax\n"
     ]
    }
   ],
   "source": []
  },
  {
   "cell_type": "code",
   "execution_count": null,
   "metadata": {},
   "outputs": [],
   "source": []
  }
 ],
 "metadata": {
  "kernelspec": {
   "display_name": "Python 3",
   "language": "python",
   "name": "python3"
  },
  "language_info": {
   "codemirror_mode": {
    "name": "ipython",
    "version": 3
   },
   "file_extension": ".py",
   "mimetype": "text/x-python",
   "name": "python",
   "nbconvert_exporter": "python",
   "pygments_lexer": "ipython3",
   "version": "3.7.6"
  }
 },
 "nbformat": 4,
 "nbformat_minor": 4
}
